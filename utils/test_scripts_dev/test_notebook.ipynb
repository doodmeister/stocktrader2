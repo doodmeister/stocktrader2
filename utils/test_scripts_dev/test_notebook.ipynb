{
 "cells": [
  {
   "cell_type": "code",
   "execution_count": 1,
   "id": "4cd88523",
   "metadata": {},
   "outputs": [
    {
     "name": "stdout",
     "output_type": "stream",
     "text": [
      "Fetching CAT from 2025-05-16 to 2025-05-16 (1m)…\n"
     ]
    },
    {
     "name": "stderr",
     "output_type": "stream",
     "text": [
      "$CAT: possibly delisted; no price data found  (1m 2025-05-16 -> 2025-05-16)\n"
     ]
    },
    {
     "ename": "AttributeError",
     "evalue": "'Index' object has no attribute 'tz'",
     "output_type": "error",
     "traceback": [
      "\u001b[1;31m---------------------------------------------------------------------------\u001b[0m",
      "\u001b[1;31mAttributeError\u001b[0m                            Traceback (most recent call last)",
      "Cell \u001b[1;32mIn[1], line 25\u001b[0m\n\u001b[0;32m     16\u001b[0m df \u001b[38;5;241m=\u001b[39m ticker\u001b[38;5;241m.\u001b[39mhistory(\n\u001b[0;32m     17\u001b[0m     start\u001b[38;5;241m=\u001b[39mstart_date,\n\u001b[0;32m     18\u001b[0m     end\u001b[38;5;241m=\u001b[39mend_date,\n\u001b[1;32m   (...)\u001b[0m\n\u001b[0;32m     21\u001b[0m     prepost\u001b[38;5;241m=\u001b[39m\u001b[38;5;28;01mFalse\u001b[39;00m \n\u001b[0;32m     22\u001b[0m )\n\u001b[0;32m     24\u001b[0m \u001b[38;5;66;03m# 3) Convert timestamps from UTC → US/Eastern, then drop tzinfo\u001b[39;00m\n\u001b[1;32m---> 25\u001b[0m \u001b[38;5;28;01mif\u001b[39;00m \u001b[43mdf\u001b[49m\u001b[38;5;241;43m.\u001b[39;49m\u001b[43mindex\u001b[49m\u001b[38;5;241;43m.\u001b[39;49m\u001b[43mtz\u001b[49m \u001b[38;5;129;01mis\u001b[39;00m \u001b[38;5;129;01mnot\u001b[39;00m \u001b[38;5;28;01mNone\u001b[39;00m:\n\u001b[0;32m     26\u001b[0m     df\u001b[38;5;241m.\u001b[39mindex \u001b[38;5;241m=\u001b[39m df\u001b[38;5;241m.\u001b[39mindex\u001b[38;5;241m.\u001b[39mtz_convert(\u001b[38;5;124m\"\u001b[39m\u001b[38;5;124mAmerica/New_York\u001b[39m\u001b[38;5;124m\"\u001b[39m)\u001b[38;5;241m.\u001b[39mtz_localize(\u001b[38;5;28;01mNone\u001b[39;00m)\n\u001b[0;32m     28\u001b[0m \u001b[38;5;28mprint\u001b[39m(\u001b[38;5;124m\"\u001b[39m\u001b[38;5;130;01m\\n\u001b[39;00m\u001b[38;5;124mSample of the DataFrame (now in ET):\u001b[39m\u001b[38;5;124m\"\u001b[39m)\n",
      "\u001b[1;31mAttributeError\u001b[0m: 'Index' object has no attribute 'tz'"
     ]
    }
   ],
   "source": [
    "# test_yahoo_fetch_msft.py\n",
    "\n",
    "import yfinance as yf\n",
    "import pandas as pd\n",
    "\n",
    "# 1) Parameters\n",
    "symbol     = \"CAT\"\n",
    "start_date = \"2025-05-16\"\n",
    "end_date   = \"2025-05-16\"   # we want the full trading day of May 16\n",
    "interval   = \"1m\"           # 5-minute bars\n",
    "\n",
    "print(f\"Fetching {symbol} from {start_date} to {end_date} ({interval})…\")\n",
    "\n",
    "# 2) Use Ticker.history to avoid the extra MultiIndex header\n",
    "ticker = yf.Ticker(symbol)\n",
    "df = ticker.history(\n",
    "    start=start_date,\n",
    "    end=end_date,\n",
    "    interval=interval,\n",
    "    auto_adjust=False,\n",
    "    prepost=False \n",
    ")\n",
    "\n",
    "# 3) Convert timestamps from UTC → US/Eastern, then drop tzinfo\n",
    "if df.index.tz is not None:\n",
    "    df.index = df.index.tz_convert(\"America/New_York\").tz_localize(None)\n",
    "\n",
    "print(\"\\nSample of the DataFrame (now in ET):\")\n",
    "print(df.iloc[:5])\n",
    "print(\"…\")\n",
    "print(df.iloc[-5:])\n",
    "\n",
    "# 4) Isolate the 12:45pm bar in Eastern Time\n",
    "target = pd.to_datetime(\"2025-05-05 12:45:00\")\n",
    "if target in df.index:\n",
    "    bar = df.loc[target]\n",
    "    print(f\"\\nBar at {target} ET:\")\n",
    "    print(f\"  Open:   {bar['Open']:.8f}\")\n",
    "    print(f\"  High:   {bar['High']:.8f}\")\n",
    "    print(f\"  Low:    {bar['Low']:.8f}\")\n",
    "    print(f\"  Close:  {bar['Close']:.8f}\")\n",
    "    print(f\"  Volume: {int(bar['Volume'])}\")\n",
    "else:\n",
    "    print(f\"\\nNo bar found at {target} ET. Available times:\\n\", df.index.tolist())\n"
   ]
  },
  {
   "cell_type": "markdown",
   "id": "c691d6bf",
   "metadata": {},
   "source": [
    "2025-05-05 12:45:00,439.0700073…,439.3299865…,438.9299926…,439.2900085…,134427"
   ]
  }
 ],
 "metadata": {
  "kernelspec": {
   "display_name": ".venv",
   "language": "python",
   "name": "python3"
  },
  "language_info": {
   "codemirror_mode": {
    "name": "ipython",
    "version": 3
   },
   "file_extension": ".py",
   "mimetype": "text/x-python",
   "name": "python",
   "nbconvert_exporter": "python",
   "pygments_lexer": "ipython3",
   "version": "3.10.11"
  }
 },
 "nbformat": 4,
 "nbformat_minor": 5
}
